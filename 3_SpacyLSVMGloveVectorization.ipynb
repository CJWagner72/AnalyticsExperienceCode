{
 "cells": [
  {
   "cell_type": "markdown",
   "metadata": {},
   "source": [
    "#  Analytics Experience - Group Project - MSCI:6040 \n",
    "\n",
    "By Group 2 (Chris Wagner, Palden Williams, Tarun Mandava  - Data Scientists) \n",
    "- September, 2020                                                             \n",
    "\n",
    "Objective - This project is an exercise in using natural language processing to determine if social media posts meet a pre-specified criterion.  In this case, the test is to determine which social media posts truly reflect information tied to a natural disaster.  For this exercise, we are working with a test dataset of Twitter posts that have been manually reviewed from Kraggle.\n",
    "\n",
    "Data source:  Real or Not?  NLP with Disaster Tweets dataset from Kaggle\n",
    "\n",
    "https://www.kaggle.com/c/nlp-getting-started"
   ]
  },
  {
   "cell_type": "markdown",
   "metadata": {},
   "source": [
    "### Spacy Library generated Vectorization with SVC Model\n",
    "\n",
    "This sample is looking at using the Spacy Library with its precompiled vectors to generate a Glove-like vectorization for our model.  Again, we'll use the Support Vector Classification out of the SVM library in SKLearn for the predictive modelling."
   ]
  },
  {
   "cell_type": "markdown",
   "metadata": {},
   "source": [
    "###### Acknowledgements/Sources\n",
    "\n",
    "https://faculty.ai/blog/glove/<br>\n",
    "https://nlp.stanford.edu/projects/glove/<br>\n",
    "https://www.kaggle.com/spurryag/beginner-attempt-at-nlp-workflow\n"
   ]
  },
  {
   "cell_type": "markdown",
   "metadata": {},
   "source": [
    "#### Library Imports"
   ]
  },
  {
   "cell_type": "code",
   "execution_count": 1,
   "metadata": {},
   "outputs": [],
   "source": [
    "import spacy\n",
    "import pandas as pd\n",
    "import matplotlib.pyplot as mplt\n",
    "import seaborn as sn\n",
    "import matplotlib.pyplot as plt                     \n",
    "import numpy as np           \n",
    "import plotly.offline as plyo"
   ]
  },
  {
   "cell_type": "code",
   "execution_count": 2,
   "metadata": {},
   "outputs": [],
   "source": [
    "import random\n",
    "import nltk\n",
    "from nltk.tokenize.toktok import ToktokTokenizer\n",
    "import re\n",
    "from bs4 import BeautifulSoup\n",
    "import unicodedata\n",
    "from collections import defaultdict\n",
    "import string\n",
    "\n",
    "from nltk.corpus import stopwords\n",
    "from sklearn.metrics import log_loss\n",
    "from tqdm import tqdm\n",
    "\n",
    "\n",
    "stop = stopwords.words('english')\n",
    "sn.set_context('notebook')"
   ]
  },
  {
   "cell_type": "markdown",
   "metadata": {},
   "source": [
    "#### Read in the Kaggle datasets"
   ]
  },
  {
   "cell_type": "code",
   "execution_count": 3,
   "metadata": {},
   "outputs": [],
   "source": [
    "sample_submission_data = pd.read_csv(\"Data/OriginalData/sample_submission.csv\")\n",
    "test_data = pd.read_csv(\"Data/OriginalData/test.csv\")\n",
    "train_data = pd.read_csv(\"Data/OriginalData/train.csv\")"
   ]
  },
  {
   "cell_type": "markdown",
   "metadata": {},
   "source": [
    "#### Remove any html characters"
   ]
  },
  {
   "cell_type": "code",
   "execution_count": 4,
   "metadata": {},
   "outputs": [],
   "source": [
    "import re\n",
    "def  remove_html(df, text):\n",
    "    df[text] = df[text].apply(lambda elem: re.sub(r\"(@[A-Za-z0-9]+)|([^0-9A-Za-z \\t])|(\\w+:\\/\\/\\S+)|^rt|http.+?\", \"\", elem))  \n",
    "    return df\n",
    "\n",
    "test_clean = remove_html(test_data, \"text\")\n",
    "train_clean = remove_html(train_data, \"text\")"
   ]
  },
  {
   "cell_type": "markdown",
   "metadata": {},
   "source": [
    "#### Remove any Emojii's from the text"
   ]
  },
  {
   "cell_type": "code",
   "execution_count": 5,
   "metadata": {},
   "outputs": [],
   "source": [
    "def remove_emoji(text):\n",
    "    emoji_pattern = re.compile(\"[\"\n",
    "                           u\"\\U0001F600-\\U0001F64F\"  # emoticons\n",
    "                           u\"\\U0001F300-\\U0001F5FF\"  # symbols & pictographs\n",
    "                           u\"\\U0001F680-\\U0001F6FF\"  # transport & map symbols\n",
    "                           u\"\\U0001F1E0-\\U0001F1FF\"  # flags (iOS)\n",
    "                           u\"\\U00002702-\\U000027B0\"\n",
    "                           u\"\\U000024C2-\\U0001F251\"\n",
    "                           \"]+\", flags=re.UNICODE)\n",
    "    return emoji_pattern.sub(r'', text)\n",
    "\n",
    "test_clean['text']=test_clean['text'].apply(lambda x: remove_emoji(x))\n",
    "train_clean['text']=train_clean['text'].apply(lambda x: remove_emoji(x))"
   ]
  },
  {
   "cell_type": "markdown",
   "metadata": {},
   "source": [
    "#### Data Cleaning\n",
    "\n",
    "The following functions will be used to remove punctuation and stopwords, set common lemmatizations, and force the data to lowercase from the incomming text data"
   ]
  },
  {
   "cell_type": "code",
   "execution_count": 6,
   "metadata": {},
   "outputs": [],
   "source": [
    "#code provided by http://https://www.kaggle.com/spurryag/beginner-attempt-at-nlp-workflow\n",
    "\n",
    "nlp = spacy.load('en_core_web_md')\n",
    "# Clean text before feeding it to model\n",
    "punctuations = string.punctuation\n",
    "\n",
    "# Define function to cleanup text by removing personal pronouns, stopwords, puncuation and reducing all characters to lowercase \n",
    "def cleanup_text(docs, logging=False):\n",
    "    texts = []\n",
    "    for doc in tqdm(docs):\n",
    "        doc = nlp(doc, disable=['parser', 'ner'])\n",
    "        tokens = [tok.lemma_.lower().strip() for tok in doc if tok.lemma_ != '-PRON-']\n",
    "        #remove stopwords and punctuations \n",
    "        tokens = [tok for tok in tokens if tok not in stop and tok not in punctuations]\n",
    "        tokens = ' '.join(tokens)\n",
    "        texts.append(tokens)\n",
    "    return pd.Series(texts)"
   ]
  },
  {
   "cell_type": "code",
   "execution_count": 7,
   "metadata": {},
   "outputs": [
    {
     "name": "stderr",
     "output_type": "stream",
     "text": [
      "100%|█████████████████████████████████████████████████████████████████████████████| 7613/7613 [00:19<00:00, 392.08it/s]\n",
      "100%|█████████████████████████████████████████████████████████████████████████████| 3263/3263 [00:08<00:00, 393.84it/s]\n"
     ]
    }
   ],
   "source": [
    "train_data['token'] = cleanup_text(train_data['text'],logging=False)\n",
    "test_data['token'] = cleanup_text(test_data['text'],logging=False)"
   ]
  },
  {
   "cell_type": "markdown",
   "metadata": {},
   "source": [
    "#### Vectorizing the data"
   ]
  },
  {
   "cell_type": "markdown",
   "metadata": {},
   "source": [
    "The following code will create a class that will inherit from the sklearn BaseEstimator and TransformerMixin libraries.  It overrides the fit and transform functions to utilize the internal nlp object for creating the model vectors."
   ]
  },
  {
   "cell_type": "code",
   "execution_count": 8,
   "metadata": {},
   "outputs": [],
   "source": [
    "# code provided by faculty.ai at https://faculty.ai/blog/glove/\n",
    "\n",
    "#Note:  This code is included in the GloveVec.py file in the project folder\n",
    "\n",
    "#import numpy as np\n",
    "#import spacy\n",
    "#from sklearn.base import BaseEstimator, TransformerMixin\n",
    "\n",
    "#class GloveVectorizer(BaseEstimator, TransformerMixin):\n",
    "#    def __init__(self, model_name=\"en_core_web_md\"):\n",
    "#        self._nlp = spacy.load(model_name)\n",
    "#\n",
    "#    def fit(self, X, y=None):\n",
    "#        return self\n",
    "#\n",
    "#    def transform(self, X):\n",
    "#        return np.concatenate(\n",
    "#            [self._nlp(doc).vector.reshape(1, -1) for doc in X]\n",
    "#        )"
   ]
  },
  {
   "cell_type": "code",
   "execution_count": 9,
   "metadata": {},
   "outputs": [],
   "source": [
    "#importing the GloveVectorizer from the py file.  This also allows calling the glove vectorizer from the flask app\n",
    "from GloveVec import GloveVectorizer"
   ]
  },
  {
   "cell_type": "markdown",
   "metadata": {},
   "source": [
    "In order to identify the contents, we created specific variables for the X and Y training values, and an X_Test used to pull the return values to return to Kaggle for scoring."
   ]
  },
  {
   "cell_type": "code",
   "execution_count": 10,
   "metadata": {},
   "outputs": [],
   "source": [
    "X=train_data[\"token\"]\n",
    "y=train_data[\"target\"]\n",
    "X_Test = test_data[\"token\"]"
   ]
  },
  {
   "cell_type": "markdown",
   "metadata": {},
   "source": [
    "#### Model the training set of Twitter data\n",
    "\n",
    "A pipeline was used to create an instance of the GloveVectorizer class as well as a new SVC model.  After the model is created, it is fit with the X and Y values from the training set above."
   ]
  },
  {
   "cell_type": "code",
   "execution_count": 11,
   "metadata": {},
   "outputs": [],
   "source": [
    "from sklearn.pipeline import make_pipeline\n",
    "from sklearn.svm import LinearSVC\n",
    "from sklearn import svm"
   ]
  },
  {
   "cell_type": "code",
   "execution_count": 12,
   "metadata": {
    "scrolled": false
   },
   "outputs": [
    {
     "name": "stderr",
     "output_type": "stream",
     "text": [
      "C:\\Users\\chris\\AppData\\Roaming\\Python\\Python37\\site-packages\\sklearn\\base.py:197: FutureWarning:\n",
      "\n",
      "From version 0.24, get_params will raise an AttributeError if a parameter cannot be retrieved as an instance attribute. Previously it would return None.\n",
      "\n"
     ]
    },
    {
     "data": {
      "text/plain": [
       "Pipeline(memory=None,\n",
       "         steps=[('glovevectorizer', GloveVectorizer(model_name=None)),\n",
       "                ('svc',\n",
       "                 SVC(C=1.0, break_ties=False, cache_size=200, class_weight=None,\n",
       "                     coef0=0.0, decision_function_shape='ovr', degree=3,\n",
       "                     gamma='scale', kernel='rbf', max_iter=-1,\n",
       "                     probability=False, random_state=None, shrinking=True,\n",
       "                     tol=0.001, verbose=False))],\n",
       "         verbose=False)"
      ]
     },
     "execution_count": 12,
     "metadata": {},
     "output_type": "execute_result"
    }
   ],
   "source": [
    "g = GloveVectorizer()\n",
    "svm = svm.SVC()\n",
    "\n",
    "pline = make_pipeline(g,svm)\n",
    "\n",
    "pline.fit(X,y)"
   ]
  },
  {
   "cell_type": "markdown",
   "metadata": {},
   "source": [
    "Model has been created, let's review the score with the training set:"
   ]
  },
  {
   "cell_type": "code",
   "execution_count": 13,
   "metadata": {},
   "outputs": [],
   "source": [
    "s = pline.score(X,y)"
   ]
  },
  {
   "cell_type": "code",
   "execution_count": 14,
   "metadata": {
    "scrolled": true
   },
   "outputs": [
    {
     "data": {
      "text/plain": [
       "0.8534086431104689"
      ]
     },
     "execution_count": 14,
     "metadata": {},
     "output_type": "execute_result"
    }
   ],
   "source": [
    "s"
   ]
  },
  {
   "cell_type": "markdown",
   "metadata": {},
   "source": [
    "Now we'll pull the sample submission dataset, score it against our model, and retrun the value to Kaggle for evaluation"
   ]
  },
  {
   "cell_type": "code",
   "execution_count": 15,
   "metadata": {},
   "outputs": [],
   "source": [
    "sub = pd.read_csv('Data/OriginalData/sample_submission.csv')"
   ]
  },
  {
   "cell_type": "code",
   "execution_count": 16,
   "metadata": {},
   "outputs": [],
   "source": [
    "sub.target = pline.predict(X_Test)\n",
    "sub.to_csv(\"spacy_svm_glove_submission_clean.csv\",index=False)"
   ]
  },
  {
   "cell_type": "code",
   "execution_count": 17,
   "metadata": {},
   "outputs": [
    {
     "data": {
      "image/png": "[encoded data removed]",
      "text/plain": [
       "<Figure size 432x288 with 1 Axes>"
      ]
     },
     "metadata": {
      "needs_background": "light"
     },
     "output_type": "display_data"
    }
   ],
   "source": [
    "sub.target.value_counts().plot.bar();"
   ]
  },
  {
   "cell_type": "markdown",
   "metadata": {},
   "source": [
    "#### Package the model into a pickle file for later use\n",
    "\n",
    "The model will be stored in a pickle file so it can be called later from the flask application"
   ]
  },
  {
   "cell_type": "code",
   "execution_count": 18,
   "metadata": {},
   "outputs": [
    {
     "data": {
      "text/plain": [
       "['svm_model.pkl']"
      ]
     },
     "execution_count": 18,
     "metadata": {},
     "output_type": "execute_result"
    }
   ],
   "source": [
    "import joblib\n",
    "\n",
    "joblib.dump(pline, 'svm_model.pkl')"
   ]
  },
  {
   "cell_type": "markdown",
   "metadata": {},
   "source": [
    "#### Test against live tweets\n",
    "\n",
    "For a further example, we pulled a sample of 100 tweets from Twitter with the keyword \"wildfires\".  Let's apply that to the model to see how it performed as well."
   ]
  },
  {
   "cell_type": "code",
   "execution_count": 19,
   "metadata": {},
   "outputs": [
    {
     "name": "stderr",
     "output_type": "stream",
     "text": [
      "100%|████████████████████████████████████████████████████████████████████████████████| 100/100 [00:01<00:00, 52.75it/s]\n"
     ]
    }
   ],
   "source": [
    "tweets = pd.read_csv(\"recent_tweets.csv\")\n",
    "\n",
    "#store the original tweet for comparison\n",
    "tweets['OriginalText'] = tweets['Text']\n",
    "\n",
    "tweets = remove_html(tweets,\"Text\")\n",
    "tweets['Text']=tweets['Text'].apply(lambda x: remove_emoji(x))\n",
    "\n",
    "tweets['token'] = cleanup_text(tweets['Text'],logging=False)\n",
    "\n",
    "t_test = tweets[\"token\"]"
   ]
  },
  {
   "cell_type": "code",
   "execution_count": 20,
   "metadata": {},
   "outputs": [],
   "source": [
    "#predict the disaster tweets\n",
    "\n",
    "tweets[\"Target\"] = pline.predict(t_test)"
   ]
  },
  {
   "cell_type": "code",
   "execution_count": 21,
   "metadata": {
    "scrolled": false
   },
   "outputs": [
    {
     "data": {
      "text/html": [
       "<div>\n",
       "<style scoped>\n",
       "    .dataframe tbody tr th:only-of-type {\n",
       "        vertical-align: middle;\n",
       "    }\n",
       "\n",
       "    .dataframe tbody tr th {\n",
       "        vertical-align: top;\n",
       "    }\n",
       "\n",
       "    .dataframe thead th {\n",
       "        text-align: right;\n",
       "    }\n",
       "</style>\n",
       "<table border=\"1\" class=\"dataframe\">\n",
       "  <thead>\n",
       "    <tr style=\"text-align: right;\">\n",
       "      <th></th>\n",
       "      <th>CreatedOn</th>\n",
       "      <th>ID</th>\n",
       "      <th>Text</th>\n",
       "      <th>User</th>\n",
       "      <th>Location</th>\n",
       "      <th>OriginalText</th>\n",
       "      <th>token</th>\n",
       "      <th>Target</th>\n",
       "    </tr>\n",
       "  </thead>\n",
       "  <tbody>\n",
       "    <tr>\n",
       "      <td>0</td>\n",
       "      <td>2020-11-06 02:28:15</td>\n",
       "      <td>1324539060409540613</td>\n",
       "      <td>John Mayers wildfire is my favorite Frank Oce...</td>\n",
       "      <td>puta_kinte</td>\n",
       "      <td>NaN</td>\n",
       "      <td>@blondedocean John Mayer’s wildfire is my favo...</td>\n",
       "      <td>john mayers wildfire favorite frank ocean feat...</td>\n",
       "      <td>0</td>\n",
       "    </tr>\n",
       "    <tr>\n",
       "      <td>1</td>\n",
       "      <td>2020-11-06 02:22:10</td>\n",
       "      <td>1324537529446662144</td>\n",
       "      <td>Im afraid that I might be starting down a slip...</td>\n",
       "      <td>Wildfire_draft</td>\n",
       "      <td>Vestal, NY</td>\n",
       "      <td>I'm afraid that I might be starting down a sli...</td>\n",
       "      <td>afraid may start slippery slope</td>\n",
       "      <td>0</td>\n",
       "    </tr>\n",
       "    <tr>\n",
       "      <td>2</td>\n",
       "      <td>2020-11-06 02:22:09</td>\n",
       "      <td>1324537525235580932</td>\n",
       "      <td>Running out of wildfire names Bay season goes ...</td>\n",
       "      <td>DeathLocal</td>\n",
       "      <td>NaN</td>\n",
       "      <td>Running out of wildfire names, Bay season goes...</td>\n",
       "      <td>run wildfire name bay season go russian</td>\n",
       "      <td>1</td>\n",
       "    </tr>\n",
       "    <tr>\n",
       "      <td>3</td>\n",
       "      <td>2020-11-06 02:22:04</td>\n",
       "      <td>1324537504016474113</td>\n",
       "      <td>In California insurers are barred from canceli...</td>\n",
       "      <td>techchronicle</td>\n",
       "      <td>San Francisco</td>\n",
       "      <td>In California, insurers are barred from cancel...</td>\n",
       "      <td>california insurer bar cancel renew home year ...</td>\n",
       "      <td>1</td>\n",
       "    </tr>\n",
       "    <tr>\n",
       "      <td>4</td>\n",
       "      <td>2020-11-06 02:21:39</td>\n",
       "      <td>1324537400954101760</td>\n",
       "      <td>Look I know you followed me for wildfire conte...</td>\n",
       "      <td>ericbkennedy</td>\n",
       "      <td>Toronto, Ontario</td>\n",
       "      <td>Look, I know you followed me for wildfire cont...</td>\n",
       "      <td>look know follow wildfire content also go ampl...</td>\n",
       "      <td>0</td>\n",
       "    </tr>\n",
       "  </tbody>\n",
       "</table>\n",
       "</div>"
      ],
      "text/plain": [
       "             CreatedOn                   ID  \\\n",
       "0  2020-11-06 02:28:15  1324539060409540613   \n",
       "1  2020-11-06 02:22:10  1324537529446662144   \n",
       "2  2020-11-06 02:22:09  1324537525235580932   \n",
       "3  2020-11-06 02:22:04  1324537504016474113   \n",
       "4  2020-11-06 02:21:39  1324537400954101760   \n",
       "\n",
       "                                                Text            User  \\\n",
       "0   John Mayers wildfire is my favorite Frank Oce...      puta_kinte   \n",
       "1  Im afraid that I might be starting down a slip...  Wildfire_draft   \n",
       "2  Running out of wildfire names Bay season goes ...      DeathLocal   \n",
       "3  In California insurers are barred from canceli...   techchronicle   \n",
       "4  Look I know you followed me for wildfire conte...    ericbkennedy   \n",
       "\n",
       "           Location                                       OriginalText  \\\n",
       "0               NaN  @blondedocean John Mayer’s wildfire is my favo...   \n",
       "1        Vestal, NY  I'm afraid that I might be starting down a sli...   \n",
       "2               NaN  Running out of wildfire names, Bay season goes...   \n",
       "3     San Francisco  In California, insurers are barred from cancel...   \n",
       "4  Toronto, Ontario  Look, I know you followed me for wildfire cont...   \n",
       "\n",
       "                                               token  Target  \n",
       "0  john mayers wildfire favorite frank ocean feat...       0  \n",
       "1                    afraid may start slippery slope       0  \n",
       "2            run wildfire name bay season go russian       1  \n",
       "3  california insurer bar cancel renew home year ...       1  \n",
       "4  look know follow wildfire content also go ampl...       0  "
      ]
     },
     "execution_count": 21,
     "metadata": {},
     "output_type": "execute_result"
    }
   ],
   "source": [
    "tweets.head()"
   ]
  },
  {
   "cell_type": "code",
   "execution_count": 22,
   "metadata": {},
   "outputs": [
    {
     "data": {
      "image/png": "[encoded data removed]",
      "text/plain": [
       "<Figure size 432x288 with 1 Axes>"
      ]
     },
     "metadata": {
      "needs_background": "light"
     },
     "output_type": "display_data"
    }
   ],
   "source": [
    "#compare the results of disaster vs. non-disaster\n",
    "\n",
    "tweets.Target.value_counts().plot.bar();"
   ]
  },
  {
   "cell_type": "code",
   "execution_count": 23,
   "metadata": {},
   "outputs": [],
   "source": [
    "#Load the results to a csv to review the final results\n",
    "\n",
    "tweets.to_csv(\"recent_tweets_scored.csv\",index=False)"
   ]
  }
 ],
 "metadata": {
  "kernelspec": {
   "display_name": "Python 3",
   "language": "python",
   "name": "python3"
  },
  "language_info": {
   "codemirror_mode": {
    "name": "ipython",
    "version": 3
   },
   "file_extension": ".py",
   "mimetype": "text/x-python",
   "name": "python",
   "nbconvert_exporter": "python",
   "pygments_lexer": "ipython3",
   "version": "3.7.3"
  }
 },
 "nbformat": 4,
 "nbformat_minor": 2
}
